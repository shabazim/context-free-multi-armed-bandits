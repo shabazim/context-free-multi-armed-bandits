{
 "cells": [
  {
   "cell_type": "code",
   "execution_count": null,
   "metadata": {},
   "outputs": [],
   "source": [
    "import numpy as np\n",
    "import pandas as pd\n",
    "import matplotlib.pyplot as plt\n",
    "import seaborn as sns\n",
    "\n",
    "\n",
    "from simulator import ABTestSimulator, EpsilonGreedySimulator, ThompsonSamplingSimulator,\\\n",
    "                       UCBSimulator, UCBBayesSimulator, UpperCredibleChoiceSimulator,\\\n",
    "                       DiscountedThompsonSamplingSimulator, SlidingWidowUCBSimulator,\\\n",
    "                       SlidingWidowThompsonSamplingSimulator\n",
    "\n",
    "import warnings\n",
    "warnings.filterwarnings(\"ignore\")"
   ]
  },
  {
   "cell_type": "markdown",
   "metadata": {},
   "source": [
    "### Run and save results \n",
    "\n",
    "####  You can skip this section and import the previously saved results in the next section"
   ]
  },
  {
   "cell_type": "code",
   "execution_count": null,
   "metadata": {},
   "outputs": [],
   "source": [
    "n_rounds = 100000\n",
    "n_simulations = 50\n",
    "epsilon=0.1\n",
    "bandit_probs = [0.35, 0.40, 0.30, 0.25]\n",
    "n_tests = 1000\n",
    "gamma = 0.1\n",
    "discount = 0.95"
   ]
  },
  {
   "cell_type": "code",
   "execution_count": null,
   "metadata": {},
   "outputs": [],
   "source": [
    "egreedy_results = EpsilonGreedySimulator(epsilon, n_simulations,n_rounds,bandit_probs).simulate()    "
   ]
  },
  {
   "cell_type": "code",
   "execution_count": null,
   "metadata": {},
   "outputs": [],
   "source": [
    "exp3_results = Exp3Simulator(gamma, n_simulations,n_rounds,bandit_probs).simulate()"
   ]
  },
  {
   "cell_type": "code",
   "execution_count": null,
   "metadata": {},
   "outputs": [],
   "source": [
    "ts_results = ThompsonSamplingSimulator(n_simulations,n_rounds,bandit_probs).simulate()   "
   ]
  },
  {
   "cell_type": "code",
   "execution_count": null,
   "metadata": {},
   "outputs": [],
   "source": [
    "ucb_results = UCBSimulator(n_simulations,n_rounds,bandit_probs).simulate() "
   ]
  },
  {
   "cell_type": "code",
   "execution_count": null,
   "metadata": {},
   "outputs": [],
   "source": [
    "ucb_bayes_results = UCBBayesSimulator(n_simulations,n_rounds,bandit_probs).simulate()   "
   ]
  },
  {
   "cell_type": "code",
   "execution_count": null,
   "metadata": {},
   "outputs": [],
   "source": [
    "ucc_results = UpperCredibleChoiceSimulator(n_simulations,n_rounds,bandit_probs).simulate() "
   ]
  },
  {
   "cell_type": "code",
   "execution_count": null,
   "metadata": {},
   "outputs": [],
   "source": [
    "dts_results = DiscountedThompsonSamplingSimulator(discount, n_simulations,n_rounds,bandit_probs).simulate()"
   ]
  },
  {
   "cell_type": "code",
   "execution_count": null,
   "metadata": {},
   "outputs": [],
   "source": [
    "sw_ucb_results = SlidingWidowUCBSimulator(n_simulations,n_rounds,bandit_probs,sliding_window=True,window_length=100).simulate()"
   ]
  },
  {
   "cell_type": "code",
   "execution_count": null,
   "metadata": {},
   "outputs": [],
   "source": [
    "sw_ts_results =SlidingWidowThompsonSamplingSimulator(n_simulations,n_rounds,\n",
    "                                                     bandit_probs,sliding_window=True,window_length=100).simulate()"
   ]
  },
  {
   "cell_type": "code",
   "execution_count": null,
   "metadata": {},
   "outputs": [],
   "source": [
    "abtest_results = ABTestSimulator(n_tests, n_simulations, n_rounds, bandit_probs).simulate()"
   ]
  },
  {
   "cell_type": "code",
   "execution_count": null,
   "metadata": {},
   "outputs": [],
   "source": [
    "egreedy_results_df = pd.DataFrame(egreedy_results)\n",
    "egreedy_avg_results_df = egreedy_results_df.groupby('round id', as_index=False).mean()\n",
    "egreedy_avg_results_df.to_csv(r'results/egreedy_results.csv')"
   ]
  },
  {
   "cell_type": "code",
   "execution_count": null,
   "metadata": {},
   "outputs": [],
   "source": [
    "exp3_results_df = pd.DataFrame(exp3_results)\n",
    "exp3_avg_results_df = exp3_results_df.groupby('round id', as_index=False).mean()\n",
    "exp3_avg_results_df.to_csv(r'results/exp3_results.csv')"
   ]
  },
  {
   "cell_type": "code",
   "execution_count": null,
   "metadata": {},
   "outputs": [],
   "source": [
    "ts_results_df = pd.DataFrame(ts_results)\n",
    "ts_avg_results_df = ts_results_df.groupby('round id', as_index=False).mean()\n",
    "ts_avg_results_df.to_csv(r'results/ts_results.csv')"
   ]
  },
  {
   "cell_type": "code",
   "execution_count": null,
   "metadata": {},
   "outputs": [],
   "source": [
    "ucb_results_df = pd.DataFrame(ucb_results)\n",
    "ucb_avg_results_df = ucb_results_df.groupby('round id', as_index=False).mean()\n",
    "ucb_avg_results_df.to_csv(r'results/ucb_results.csv')"
   ]
  },
  {
   "cell_type": "code",
   "execution_count": null,
   "metadata": {},
   "outputs": [],
   "source": [
    "ucb_bayes_results_df = pd.DataFrame(ucb_bayes_results)\n",
    "ucb_bayes_avg_results_df = ucb_bayes_results_df.groupby('round id', as_index=False).mean()\n",
    "ucb_bayes_avg_results_df.to_csv(r'results/ucb_bayes_results.csv')"
   ]
  },
  {
   "cell_type": "code",
   "execution_count": null,
   "metadata": {},
   "outputs": [],
   "source": [
    "ucc_results_df = pd.DataFrame(ucc_results)\n",
    "ucc_avg_results_df = ucc_results_df.groupby('round id', as_index=False).mean()\n",
    "ucc_avg_results_df.to_csv(r'results/ucc_results.csv')"
   ]
  },
  {
   "cell_type": "code",
   "execution_count": null,
   "metadata": {},
   "outputs": [],
   "source": [
    "dts_results_df = pd.DataFrame(dts_results)\n",
    "dts_avg_results_df = dts_results_df.groupby('round id', as_index=False).mean()\n",
    "dts_avg_results_df.to_csv(r'results/dts_results.csv')"
   ]
  },
  {
   "cell_type": "code",
   "execution_count": null,
   "metadata": {},
   "outputs": [],
   "source": [
    "sw_ucb_results_df = pd.DataFrame(sw_ucb_results)\n",
    "sw_ucb_avg_results_df = sw_ucb_results_df.groupby('round id', as_index=False).mean()\n",
    "sw_ucb_avg_results_df.to_csv(r'results/sw_ucb_results.csv')"
   ]
  },
  {
   "cell_type": "code",
   "execution_count": null,
   "metadata": {},
   "outputs": [],
   "source": [
    "sw_ts_results_df = pd.DataFrame(sw_ts_results)\n",
    "sw_ts_avg_results_df = sw_ts_results_df.groupby('round id', as_index=False).mean()\n",
    "sw_ts_avg_results_df.to_csv(r'results/sw_ts_results.csv')"
   ]
  },
  {
   "cell_type": "code",
   "execution_count": null,
   "metadata": {},
   "outputs": [],
   "source": [
    "abtest_results_df = pd.DataFrame(abtest_results)\n",
    "abtest_avg_results_df = abtest_results_df.groupby('round id', as_index=False).mean()\n",
    "abtest_avg_results_df.to_csv(r'results/abtest_results.csv')"
   ]
  },
  {
   "cell_type": "markdown",
   "metadata": {},
   "source": [
    "### Import results"
   ]
  },
  {
   "cell_type": "code",
   "execution_count": null,
   "metadata": {},
   "outputs": [],
   "source": [
    "egreedy_avg_results_df = pd.read_csv('results/egreedy_results.csv',index_col=0)\n",
    "ts_avg_results_df=pd.read_csv('results/ts_results.csv',index_col=0)\n",
    "ucb_avg_results_df=pd.read_csv('results/ucb_results.csv',index_col=0)\n",
    "ucb_bayes_avg_results_df=pd.read_csv('results/ucb_bayes_results.csv',index_col=0)\n",
    "ucc_avg_results_df=pd.read_csv('results/ucc_results.csv',index_col=0)\n",
    "dts_avg_results_df=pd.read_csv('results/dts_results.csv',index_col=0)\n",
    "sw_ucb_avg_results_df=pd.read_csv('results/sw_ucb_results.csv',index_col=0)\n",
    "sw_ts_avg_results_df=pd.read_csv('results/sw_ts_results.csv',index_col=0)\n",
    "abtest_avg_results_df=pd.read_csv('results/abtest_results.csv',index_col=0)"
   ]
  },
  {
   "cell_type": "markdown",
   "metadata": {},
   "source": [
    "### Plot cumulative regret and rewards for stationary bandits "
   ]
  },
  {
   "cell_type": "code",
   "execution_count": null,
   "metadata": {},
   "outputs": [],
   "source": [
    "sns.set(font_scale=2.5, style = 'whitegrid')"
   ]
  },
  {
   "cell_type": "code",
   "execution_count": null,
   "metadata": {},
   "outputs": [],
   "source": [
    "fig, ax = plt.subplots(figsize=(12,10))\n",
    "\n",
    "for avg_results_df in [abtest_avg_results_df,\n",
    "                       egreedy_avg_results_df,\n",
    "                       ucb_avg_results_df,\n",
    "                       ucc_avg_results_df,\n",
    "                       ucb_bayes_avg_results_df,\n",
    "                       ts_avg_results_df]:\n",
    "    \n",
    "    \n",
    "    ax.plot(avg_results_df['round id'], avg_results_df['cumulative expected reward'], linewidth=3.5)\n",
    "    \n",
    "# add lines for the optimal values \n",
    "#for p in bandit_probs:\n",
    "ax.axhline(y=max(bandit_probs), color='k', linestyle=':', linewidth=2.5)\n",
    "        \n",
    "ax.set_title('Comparision of cumulative expected reward \\n for each method in {} simulations'.format(n_simulations))\n",
    "ax.set_xlabel('Rounds #')\n",
    "ax.set_ylabel('Cumulative Expected Reward')\n",
    "\n",
    "# ax.set_xticks(range(0,22000,5000))\n",
    "#ax.set_ylim(0.25, 0.42)\n",
    "#ax.set_yticks(np.array(bandit_probs))\n",
    "\n",
    "# rescale the y-axis tick labels to show them as a percentage\n",
    "# ax.set_yticklabels((ax.get_yticks()*100).astype(int))\n",
    "\n",
    "ax.legend(['A/B Test (1k test)',\n",
    "           '$\\epsilon$-Greedy = 0.1',\n",
    "           'UCB',\n",
    "           'Upper Credible Choice',\n",
    "           'UCB-Bayes',\n",
    "           'Thompson Sampling', 'Optimal'], loc='best', ncol=1,fontsize=20)\n",
    "\n",
    "plt.tight_layout()\n",
    "plt.savefig(r'Results/cumulative expected-reward stationary.png')\n",
    "plt.show()"
   ]
  },
  {
   "cell_type": "code",
   "execution_count": null,
   "metadata": {},
   "outputs": [],
   "source": [
    "fig, ax = plt.subplots(figsize=(12,10))\n",
    "\n",
    "for avg_results_df in [abtest_avg_results_df,\n",
    "                       egreedy_avg_results_df,\n",
    "                       ucb_avg_results_df,\n",
    "                       ucc_avg_results_df,\n",
    "                       ucb_bayes_avg_results_df,\n",
    "                       ts_avg_results_df]:\n",
    "    \n",
    "    \n",
    "    ax.plot(avg_results_df['round id'], avg_results_df['cumulative regret'], linewidth=3.5)\n",
    "    \n",
    "\n",
    "        \n",
    "ax.set_title('Comparision of cumulative regret \\n for each method in {} simulations'.format(n_simulations))\n",
    "ax.set_xlabel('Rounds #')\n",
    "ax.set_ylabel('Cumulative Regret')\n",
    "\n",
    "# ax.set_xticks(range(0,22000,5000))\n",
    "# ax.set_ylim(0.2, 0.6)\n",
    "# ax.set_yticks(np.arange(0.2, 0.7, 0.1))\n",
    "\n",
    "# rescale the y-axis tick labels to show them as a percentage\n",
    "# ax.set_yticklabels((ax.get_yticks()*100).astype(int))\n",
    "\n",
    "ax.legend(['A/B Test (1k test)',\n",
    "           '$\\epsilon$-Greedy = 0.1',\n",
    "           'UCB',\n",
    "           'Upper Credible Choice',\n",
    "           'UCB-Bayes',\n",
    "           'Thompson Sampling','Optimal'],loc='best',fontsize=20)\n",
    "\n",
    "plt.tight_layout()\n",
    "plt.savefig(r'Results/cumulative regret stationary.png')\n",
    "plt.show()"
   ]
  },
  {
   "cell_type": "markdown",
   "metadata": {},
   "source": [
    "### Plot cumulative regret and rewards for non-stationary bandits "
   ]
  },
  {
   "cell_type": "code",
   "execution_count": null,
   "metadata": {},
   "outputs": [],
   "source": [
    "sw_ucb_avg_results_df=pd.read_csv('results/sw_ucb_results.csv',index_col=0)\n",
    "sw_ts_avg_results_df=pd.read_csv('results/sw_ts_results.csv',index_col=0)\n",
    "abtest_avg_results_df=pd.read_csv('results/abtest_results.csv',index_col=0)\n",
    "\n",
    "fig, ax = plt.subplots(figsize=(12,10))\n",
    "\n",
    "for avg_results_df in [sw_ucb_avg_results_df,\n",
    "                       sw_ts_avg_results_df,\n",
    "                       dts_avg_results_df]:\n",
    "    \n",
    "    \n",
    "    ax.plot(avg_results_df['round id'], avg_results_df['cumulative expected reward'], linewidth=3.5)\n",
    "    \n",
    "# add lines for the optimal values \n",
    "#for p in bandit_probs:\n",
    "ax.axhline(y=max(bandit_probs), color='k', linestyle=':', linewidth=2.5)\n",
    "        \n",
    "ax.set_title('Comparision of cumulative expected reward \\n for each method in {} simulations'.format(n_simulations))\n",
    "ax.set_xlabel('Rounds #')\n",
    "ax.set_ylabel('Cumulative Expected Reward')\n",
    "\n",
    "# ax.set_xticks(range(0,22000,5000))\n",
    "#ax.set_ylim(0.25, 0.42)\n",
    "#ax.set_yticks(np.array(bandit_probs))\n",
    "\n",
    "# rescale the y-axis tick labels to show them as a percentage\n",
    "# ax.set_yticklabels((ax.get_yticks()*100).astype(int))\n",
    "\n",
    "ax.legend(['Sliding Window UCB',\n",
    "           'Sliding Window Thompson Sampling',\n",
    "           'Discounted Thompson Sampling',\n",
    "           'Optimal'], loc='best', ncol=1,fontsize=20)\n",
    "\n",
    "plt.tight_layout()\n",
    "plt.savefig(r'Results/cumulative expected-reward non-stationary.png')\n",
    "plt.show()"
   ]
  },
  {
   "cell_type": "code",
   "execution_count": null,
   "metadata": {},
   "outputs": [],
   "source": [
    "sw_ucb_avg_results_df=pd.read_csv('results/sw_ucb_results.csv',index_col=0)\n",
    "sw_ts_avg_results_df=pd.read_csv('results/sw_ts_results.csv',index_col=0)\n",
    "abtest_avg_results_df=pd.read_csv('results/abtest_results.csv',index_col=0)\n",
    "\n",
    "fig, ax = plt.subplots(figsize=(12,10))\n",
    "\n",
    "for avg_results_df in [sw_ucb_avg_results_df,\n",
    "                       sw_ts_avg_results_df,\n",
    "                       dts_avg_results_df]:\n",
    "    \n",
    "    \n",
    "    ax.plot(avg_results_df['round id'], avg_results_df['cumulative regret'], linewidth=3.5)\n",
    "    \n",
    "        \n",
    "ax.set_title('Comparision of cumulative regret \\n for each method in {} simulations'.format(n_simulations))\n",
    "ax.set_xlabel('Rounds #')\n",
    "ax.set_ylabel('Cumulative Expected Reward')\n",
    "\n",
    "# ax.set_xticks(range(0,22000,5000))\n",
    "#ax.set_ylim(0.25, 0.42)\n",
    "#ax.set_yticks(np.array(bandit_probs))\n",
    "\n",
    "# rescale the y-axis tick labels to show them as a percentage\n",
    "# ax.set_yticklabels((ax.get_yticks()*100).astype(int))\n",
    "\n",
    "ax.legend(['Sliding Window UCB',\n",
    "           'Sliding Window Thompson Sampling',\n",
    "           'Discounted Thompson Sampling',\n",
    "           'Optimal'], loc='best', ncol=1,fontsize=20)\n",
    "\n",
    "plt.tight_layout()\n",
    "plt.savefig(r'Results/cumulative regret non-stationary.png')\n",
    "plt.show()"
   ]
  },
  {
   "cell_type": "markdown",
   "metadata": {},
   "source": [
    "### Plot and get an animation of evolution of estimated probability of reward distribuations "
   ]
  },
  {
   "cell_type": "code",
   "execution_count": null,
   "metadata": {},
   "outputs": [],
   "source": [
    "n_rounds = 300\n",
    "n_simulations = None\n",
    "epsilon=0.1\n",
    "bandit_probs = [0.35, 0.40, 0.30, 0.25]\n",
    "bandit_colors = ['red', 'green', 'blue', 'purple']\n"
   ]
  },
  {
   "cell_type": "code",
   "execution_count": null,
   "metadata": {},
   "outputs": [],
   "source": [
    "plot_title = 'Thompson Sampling decision policy: probability matching'\n",
    "ThompsonSamplingSimulator(n_simulations,n_rounds,bandit_probs).plot_MAB_experiment(bandit_colors, plot_title)"
   ]
  },
  {
   "cell_type": "code",
   "execution_count": null,
   "metadata": {},
   "outputs": [],
   "source": [
    "plot_title = 'Epsilon-Greedy'\n",
    "EpsilonGreedySimulator(epsilon, n_simulations,n_rounds,bandit_probs).plot_MAB_experiment(bandit_colors, plot_title)"
   ]
  },
  {
   "cell_type": "code",
   "execution_count": null,
   "metadata": {},
   "outputs": [],
   "source": []
  }
 ],
 "metadata": {
  "kernelspec": {
   "display_name": "Python 3",
   "language": "python",
   "name": "python3"
  },
  "language_info": {
   "codemirror_mode": {
    "name": "ipython",
    "version": 3
   },
   "file_extension": ".py",
   "mimetype": "text/x-python",
   "name": "python",
   "nbconvert_exporter": "python",
   "pygments_lexer": "ipython3",
   "version": "3.6.8"
  }
 },
 "nbformat": 4,
 "nbformat_minor": 2
}
